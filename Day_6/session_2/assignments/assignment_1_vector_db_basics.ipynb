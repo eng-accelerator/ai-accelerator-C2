{
  "cells": [
    {
      "cell_type": "markdown",
      "metadata": {},
      "source": [
        "# Assignment 1: Vector Database Creation and Retrieval\n",
        "## Day 6 Session 2 - RAG Fundamentals\n",
        "\n",
        "**OBJECTIVE:** Create a vector database from a folder of documents and implement basic retrieval functionality.\n",
        "\n",
        "**LEARNING GOALS:**\n",
        "- Understand document loading with SimpleDirectoryReader\n",
        "- Learn vector store setup with LanceDB\n",
        "- Implement vector index creation\n",
        "- Perform semantic search and retrieval\n",
        "\n",
        "**DATASET:** Use the data folder in `Day_6/session_2/data/` which contains multiple file types\n",
        "\n",
        "**INSTRUCTIONS:**\n",
        "1. Complete each function by replacing the TODO comments with actual implementation\n",
        "2. Run each cell after completing the function to test it\n",
        "3. The answers can be found in the existing notebooks in the `llamaindex_rag/` folder\n"
      ]
    },
    {
      "cell_type": "code",
      "execution_count": 2,
      "metadata": {},
      "outputs": [
        {
          "name": "stderr",
          "output_type": "stream",
          "text": [
            "/Users/ishandutta/miniconda3/envs/accelerator/lib/python3.11/site-packages/tqdm/auto.py:21: TqdmWarning: IProgress not found. Please update jupyter and ipywidgets. See https://ipywidgets.readthedocs.io/en/stable/user_install.html\n",
            "  from .autonotebook import tqdm as notebook_tqdm\n"
          ]
        },
        {
          "name": "stdout",
          "output_type": "stream",
          "text": [
            "✅ Libraries imported successfully!\n"
          ]
        }
      ],
      "source": [
        "# Import required libraries\n",
        "import os\n",
        "from pathlib import Path\n",
        "from typing import List\n",
        "from llama_index.core import SimpleDirectoryReader, VectorStoreIndex, StorageContext, Settings\n",
        "from llama_index.vector_stores.lancedb import LanceDBVectorStore\n",
        "from llama_index.embeddings.huggingface import HuggingFaceEmbedding\n",
        "\n",
        "print(\"✅ Libraries imported successfully!\")"
      ]
    },
    {
      "cell_type": "code",
      "execution_count": 3,
      "metadata": {},
      "outputs": [
        {
          "name": "stdout",
          "output_type": "stream",
          "text": [
            "✅ LlamaIndex configured with local embeddings\n",
            "   Using BAAI/bge-small-en-v1.5 for document embeddings\n"
          ]
        }
      ],
      "source": [
        "# Configure LlamaIndex Settings (Using OpenRouter - No OpenAI API Key needed)\n",
        "def setup_llamaindex_settings():\n",
        "    \"\"\"\n",
        "    Configure LlamaIndex with local embeddings and OpenRouter for LLM.\n",
        "    This assignment focuses on vector database operations, so we'll use local embeddings only.\n",
        "    \"\"\"\n",
        "    # Check for OpenRouter API key (for future use, not needed for this basic assignment)\n",
        "    api_key = os.getenv(\"OPENROUTER_API_KEY\")\n",
        "    if not api_key:\n",
        "        print(\"ℹ️  OPENROUTER_API_KEY not found - that's OK for this assignment!\")\n",
        "        print(\"   This assignment only uses local embeddings for vector operations.\")\n",
        "    \n",
        "    # Configure local embeddings (no API key required)\n",
        "    Settings.embed_model = HuggingFaceEmbedding(\n",
        "        model_name=\"BAAI/bge-small-en-v1.5\",\n",
        "        trust_remote_code=True\n",
        "    )\n",
        "    \n",
        "    print(\"✅ LlamaIndex configured with local embeddings\")\n",
        "    print(\"   Using BAAI/bge-small-en-v1.5 for document embeddings\")\n",
        "\n",
        "# Setup the configuration\n",
        "setup_llamaindex_settings()\n"
      ]
    },
    {
      "cell_type": "markdown",
      "metadata": {},
      "source": [
        "## 1. Document Loading Function\n",
        "\n",
        "Complete the function below to load documents from a folder using `SimpleDirectoryReader`.\n",
        "\n",
        "**Note:** This assignment uses local embeddings only - no OpenAI API key required! We're configured to use OpenRouter for future LLM operations.\n"
      ]
    },
    {
      "cell_type": "code",
      "execution_count": null,
      "metadata": {},
      "outputs": [],
      "source": [
        "def load_documents_from_folder(folder_path: str):\n",
        "    \"\"\"\n",
        "    Load documents from a folder using SimpleDirectoryReader.\n",
        "    \n",
        "    TODO: Complete this function to load documents from the given folder path.\n",
        "    HINT: Use SimpleDirectoryReader with recursive parameter to load all files\n",
        "    \n",
        "    Args:\n",
        "        folder_path (str): Path to the folder containing documents\n",
        "        \n",
        "    Returns:\n",
        "        List of documents loaded from the folder\n",
        "    \"\"\"\n",
        "    # TODO: Create SimpleDirectoryReader instance\n",
        "    # reader = ?\n",
        "    \n",
        "    # TODO: Load and return documents\n",
        "    # documents = ?\n",
        "    \n",
        "    # return documents\n",
        "    \n",
        "    # PLACEHOLDER - Replace with actual implementation\n",
        "    print(f\"TODO: Load documents from {folder_path}\")\n",
        "    return []\n",
        "\n",
        "# Test the function after you complete it\n",
        "test_folder = \"../data\"\n",
        "documents = load_documents_from_folder(test_folder)\n",
        "print(f\"Loaded {len(documents)} documents\")\n"
      ]
    },
    {
      "cell_type": "markdown",
      "metadata": {},
      "source": [
        "## 2. Vector Store Creation Function\n",
        "\n",
        "Complete the function below to create a LanceDB vector store.\n"
      ]
    },
    {
      "cell_type": "code",
      "execution_count": null,
      "metadata": {},
      "outputs": [],
      "source": [
        "def create_vector_store(db_path: str = \"./vectordb\", table_name: str = \"documents\"):\n",
        "    \"\"\"\n",
        "    Create a LanceDB vector store for storing document embeddings.\n",
        "    \n",
        "    TODO: Complete this function to create and configure a LanceDB vector store.\n",
        "    HINT: Use LanceDBVectorStore with uri and table_name parameters\n",
        "    \n",
        "    Args:\n",
        "        db_path (str): Path where the vector database will be stored\n",
        "        table_name (str): Name of the table in the vector database\n",
        "        \n",
        "    Returns:\n",
        "        LanceDBVectorStore: Configured vector store\n",
        "    \"\"\"\n",
        "    # TODO: Create the directory if it doesn't exist\n",
        "    # Path(db_path).mkdir(parents=True, exist_ok=True)\n",
        "    \n",
        "    # TODO: Create vector store\n",
        "    # vector_store = ?\n",
        "    \n",
        "    # return vector_store\n",
        "    \n",
        "    # PLACEHOLDER - Replace with actual implementation\n",
        "    print(f\"TODO: Create vector store at {db_path}\")\n",
        "    return None\n",
        "\n",
        "# Test the function after you complete it\n",
        "vector_store = create_vector_store(\"./assignment_vectordb\")\n",
        "print(f\"Vector store created: {vector_store is not None}\")\n"
      ]
    },
    {
      "cell_type": "markdown",
      "metadata": {},
      "source": [
        "## 3. Vector Index Creation Function\n",
        "\n",
        "Complete the function below to create a vector index from documents.\n"
      ]
    },
    {
      "cell_type": "code",
      "execution_count": null,
      "metadata": {},
      "outputs": [],
      "source": [
        "def create_vector_index(documents: List, vector_store):\n",
        "    \"\"\"\n",
        "    Create a vector index from documents using the provided vector store.\n",
        "    \n",
        "    TODO: Complete this function to create a VectorStoreIndex from documents.\n",
        "    HINT: Create StorageContext with vector_store, then use VectorStoreIndex.from_documents()\n",
        "    \n",
        "    Args:\n",
        "        documents: List of documents to index\n",
        "        vector_store: LanceDB vector store to use for storage\n",
        "        \n",
        "    Returns:\n",
        "        VectorStoreIndex: The created vector index\n",
        "    \"\"\"\n",
        "    # TODO: Create storage context with vector store\n",
        "    # storage_context = ?\n",
        "    \n",
        "    # TODO: Create index from documents\n",
        "    # index = ?\n",
        "    \n",
        "    # return index\n",
        "    \n",
        "    # PLACEHOLDER - Replace with actual implementation\n",
        "    print(f\"TODO: Create vector index from {len(documents)} documents\")\n",
        "    return None\n",
        "\n",
        "# Test the function after you complete it (will only work after previous functions are completed)\n",
        "if documents and vector_store:\n",
        "    index = create_vector_index(documents, vector_store)\n",
        "    print(f\"Vector index created: {index is not None}\")\n",
        "else:\n",
        "    print(\"Complete previous functions first to test this one\")\n"
      ]
    },
    {
      "cell_type": "markdown",
      "metadata": {},
      "source": [
        "## 4. Document Search Function\n",
        "\n",
        "Complete the function below to search for relevant documents using the vector index.\n"
      ]
    },
    {
      "cell_type": "code",
      "execution_count": null,
      "metadata": {},
      "outputs": [],
      "source": [
        "def search_documents(index, query: str, top_k: int = 3):\n",
        "    \"\"\"\n",
        "    Search for relevant documents using the vector index.\n",
        "    \n",
        "    TODO: Complete this function to perform semantic search on the index.\n",
        "    HINT: Use index.as_retriever() with similarity_top_k parameter, then retrieve(query)\n",
        "    \n",
        "    Args:\n",
        "        index: Vector index to search\n",
        "        query (str): Search query\n",
        "        top_k (int): Number of top results to return\n",
        "        \n",
        "    Returns:\n",
        "        List of retrieved document nodes\n",
        "    \"\"\"\n",
        "    # TODO: Create retriever from index\n",
        "    # retriever = ?\n",
        "    \n",
        "    # TODO: Retrieve documents for the query\n",
        "    # results = ?\n",
        "    \n",
        "    # return results\n",
        "    \n",
        "    # PLACEHOLDER - Replace with actual implementation\n",
        "    print(f\"TODO: Search for '{query}' in index\")\n",
        "    return []\n",
        "\n",
        "# Test the function after you complete it (will only work after all previous functions are completed)\n",
        "if 'index' in locals() and index is not None:\n",
        "    test_query = \"What are AI agents?\"\n",
        "    results = search_documents(index, test_query, top_k=2)\n",
        "    print(f\"Found {len(results)} results for query: '{test_query}'\")\n",
        "    for i, result in enumerate(results, 1):\n",
        "        print(f\"Result {i}: {result.text[:100] if hasattr(result, 'text') else 'No text'}...\")\n",
        "else:\n",
        "    print(\"Complete all previous functions first to test this one\")\n"
      ]
    },
    {
      "cell_type": "markdown",
      "metadata": {},
      "source": [
        "## 5. Final Test - Complete Pipeline\n",
        "\n",
        "Once you've completed all the functions above, run this cell to test the complete pipeline with multiple search queries.\n"
      ]
    },
    {
      "cell_type": "code",
      "execution_count": null,
      "metadata": {},
      "outputs": [],
      "source": [
        "# Final test of the complete pipeline\n",
        "print(\"🚀 Testing Complete Vector Database Pipeline\")\n",
        "print(\"=\" * 50)\n",
        "\n",
        "# Re-run the complete pipeline to ensure everything works\n",
        "data_folder = \"../data\"\n",
        "vector_db_path = \"./assignment_vectordb\"\n",
        "\n",
        "# Step 1: Load documents\n",
        "print(\"\\n📂 Step 1: Loading documents...\")\n",
        "documents = load_documents_from_folder(data_folder)\n",
        "print(f\"   Loaded {len(documents)} documents\")\n",
        "\n",
        "# Step 2: Create vector store\n",
        "print(\"\\n🗄️ Step 2: Creating vector store...\")\n",
        "vector_store = create_vector_store(vector_db_path)\n",
        "print(\"   Vector store status:\", \"✅ Created\" if vector_store else \"❌ Failed\")\n",
        "\n",
        "# Step 3: Create vector index\n",
        "print(\"\\n🔗 Step 3: Creating vector index...\")\n",
        "if documents and vector_store:\n",
        "    index = create_vector_index(documents, vector_store)\n",
        "    print(\"   Index status:\", \"✅ Created\" if index else \"❌ Failed\")\n",
        "else:\n",
        "    index = None\n",
        "    print(\"   ❌ Cannot create index - missing documents or vector store\")\n",
        "\n",
        "# Step 4: Test multiple search queries\n",
        "print(\"\\n🔍 Step 4: Testing search functionality...\")\n",
        "if index:\n",
        "    search_queries = [\n",
        "        \"What are AI agents?\",\n",
        "        \"How to evaluate agent performance?\", \n",
        "        \"Italian recipes and cooking\",\n",
        "        \"Financial analysis and investment\"\n",
        "    ]\n",
        "    \n",
        "    for query in search_queries:\n",
        "        print(f\"\\n   🔎 Query: '{query}'\")\n",
        "        results = search_documents(index, query, top_k=2)\n",
        "        \n",
        "        if results:\n",
        "            for i, result in enumerate(results, 1):\n",
        "                text_preview = result.text[:100] if hasattr(result, 'text') else \"No text available\"\n",
        "                score = f\" (Score: {result.score:.4f})\" if hasattr(result, 'score') else \"\"\n",
        "                print(f\"      {i}. {text_preview}...{score}\")\n",
        "        else:\n",
        "            print(\"      No results found\")\n",
        "else:\n",
        "    print(\"   ❌ Cannot test search - index not created\")\n",
        "\n",
        "print(\"\\n\" + \"=\" * 50)\n",
        "print(\"🎯 Assignment Status:\")\n",
        "print(f\"   Documents loaded: {'✅' if documents else '❌'}\")\n",
        "print(f\"   Vector store created: {'✅' if vector_store else '❌'}\")\n",
        "print(f\"   Index created: {'✅' if index else '❌'}\")\n",
        "print(f\"   Search working: {'✅' if index else '❌'}\")\n",
        "\n",
        "if documents and vector_store and index:\n",
        "    print(\"\\n🎉 Congratulations! You've successfully completed the assignment!\")\n",
        "    print(\"   You've built a complete vector database with search functionality!\")\n",
        "else:\n",
        "    print(\"\\n📝 Please complete the TODO functions above to finish the assignment.\")\n"
      ]
    }
  ],
  "metadata": {
    "kernelspec": {
      "display_name": "accelerator",
      "language": "python",
      "name": "python3"
    },
    "language_info": {
      "codemirror_mode": {
        "name": "ipython",
        "version": 3
      },
      "file_extension": ".py",
      "mimetype": "text/x-python",
      "name": "python",
      "nbconvert_exporter": "python",
      "pygments_lexer": "ipython3",
      "version": "3.11.13"
    }
  },
  "nbformat": 4,
  "nbformat_minor": 2
}
